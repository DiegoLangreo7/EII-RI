{
  "nbformat": 4,
  "nbformat_minor": 0,
  "metadata": {
    "colab": {
      "provenance": [],
      "authorship_tag": "ABX9TyMRDUYteZcYOzCno2S1K9S8",
      "include_colab_link": true
    },
    "kernelspec": {
      "name": "python3",
      "display_name": "Python 3"
    },
    "language_info": {
      "name": "python"
    }
  },
  "cells": [
    {
      "cell_type": "markdown",
      "metadata": {
        "id": "view-in-github",
        "colab_type": "text"
      },
      "source": [
        "<a href=\"https://colab.research.google.com/github/DiegoLangreo7/EII-RI/blob/main/Ejercicio1_RI.ipynb\" target=\"_parent\"><img src=\"https://colab.research.google.com/assets/colab-badge.svg\" alt=\"Open In Colab\"/></a>"
      ]
    },
    {
      "cell_type": "markdown",
      "source": [
        "# Ej. 1. Indexado de una colección estandarizada\n"
      ],
      "metadata": {
        "id": "Qm7pUDBsf9e8"
      }
    },
    {
      "cell_type": "markdown",
      "source": [
        "En este primer ejercicio, se nos pide indexar una de las dos colecciones de datos propuestas. En mi caso, haremos uso de la base de datos: \"TREC-COVID\"."
      ],
      "metadata": {
        "id": "2eRZm9vxf_h9"
      }
    },
    {
      "cell_type": "markdown",
      "source": [
        "Lo primero de todo que haremos, sera preparar nuestro espacio de trabajo para la realizacion de este ejercicio:\n",
        "Descargamos el paquete \"bm25s\" requerido para el indexado."
      ],
      "metadata": {
        "id": "wzUKwVSQe1Im"
      }
    },
    {
      "cell_type": "code",
      "source": [
        "!pip install bm25s[full]"
      ],
      "metadata": {
        "id": "hlKRMir3fD8g"
      },
      "execution_count": null,
      "outputs": []
    },
    {
      "cell_type": "markdown",
      "source": [
        "Una vez instalado, proseguimos con las librerias necesarias.\n",
        "Estas son:\n",
        "*   bm25s: Para crear índices y buscar documentos con BM25.\n",
        "*   Stemmer: Para estematizar términos .\n",
        "*   json: Para cargar el corpus que nos viene en formato JSON.\n",
        "\n",
        "\n",
        "\n",
        "\n",
        "\n"
      ],
      "metadata": {
        "id": "Qwxf2ypDfGYa"
      }
    },
    {
      "cell_type": "code",
      "source": [
        "import bm25s\n",
        "import Stemmer\n",
        "import json"
      ],
      "metadata": {
        "id": "ebC9mveXfSPq"
      },
      "execution_count": null,
      "outputs": []
    },
    {
      "cell_type": "markdown",
      "source": [
        "Con esto tenemos todo lo necesario para comenzar a trabajar."
      ],
      "metadata": {
        "id": "2sr0TjBZfwVo"
      }
    },
    {
      "cell_type": "markdown",
      "source": [
        "Ahora descargamos el zip que contiene la colección antes mencionada, con la que trabajaremos:"
      ],
      "metadata": {
        "id": "qOSMUzM2f5Ft"
      }
    },
    {
      "cell_type": "code",
      "source": [
        "!gdown 1SrJV0E1SvYsCt0gkgXmHAOsBVkrAFirs\n",
        "!unzip -o trec-covid-RI.zip"
      ],
      "metadata": {
        "id": "mBP01uBQgrFq"
      },
      "execution_count": null,
      "outputs": []
    },
    {
      "cell_type": "markdown",
      "source": [
        "Una vez tenemos la colección, toca parsearla para manejar sus datos:"
      ],
      "metadata": {
        "id": "oWBuSfsJk9S-"
      }
    },
    {
      "cell_type": "code",
      "source": [
        "corpus_content = []\n",
        "with open(\"corpus.jsonl\", \"r\", encoding=\"utf-8\") as f:\n",
        "    for line in f:\n",
        "        corpus_content.append(json.loads(line.strip()))"
      ],
      "metadata": {
        "id": "8XhS8IjVlA8F"
      },
      "execution_count": null,
      "outputs": []
    },
    {
      "cell_type": "markdown",
      "source": [
        "Ya tenemos el archivo abierto y leido, pero ahora necesitamos preparar nuestro corpus para BM25S en dos formatos:\n",
        "\n",
        "\n",
        "1.   Una versión literal que mantenga la estructura original de los \"documentos\".\n",
        "2.   Una versión de texto plano para tokenización e indexación.\n",
        "\n",
        "\n",
        "\n"
      ],
      "metadata": {
        "id": "cGsBE_iSlMHA"
      }
    },
    {
      "cell_type": "code",
      "source": [
        "corpus_verbatim = list()\n",
        "corpus_plaintext = list()\n",
        "for entry in corpus_content:\n",
        "  value = value+1\n",
        "  document = {\"id\": entry[\"_id\"], \"title\": entry[\"title\"].lower(),\n",
        "  \"text\": entry[\"text\"].lower()}\n",
        "  corpus_verbatim.append(document)\n",
        "  corpus_plaintext.append(f\"{entry['title'].lower()} {entry['text'].lower()}\")"
      ],
      "metadata": {
        "id": "-OQANAQDlfIN"
      },
      "execution_count": null,
      "outputs": []
    },
    {
      "cell_type": "markdown",
      "source": [
        "Ahora toca procesar el texto. Como podemos comprobar al abrir el archivo .jsonl en el bloc de notas o notepad++, es que el idioma del mismo es el inglés, por tanto, aplicamos un stemmer para el idioma inglés y eliminamos palabras\n",
        "vacías al realizar la tokenización:"
      ],
      "metadata": {
        "id": "Xt_uxZF3lo8Y"
      }
    },
    {
      "cell_type": "code",
      "source": [
        "stemmer = Stemmer.Stemmer(\"english\")\n",
        "corpus_tokenized = bm25s.tokenize(corpus_plaintext, stopwords=\"en\",\n",
        " stemmer=stemmer, show_progress=True)\n"
      ],
      "metadata": {
        "id": "oGPb_Rv5mFwy"
      },
      "execution_count": null,
      "outputs": []
    },
    {
      "cell_type": "markdown",
      "source": [
        "Ahora crearemos nuestro retriever basado en BM25 e indexaremos el corpus tokenizado."
      ],
      "metadata": {
        "id": "muo7jicBmoAU"
      }
    },
    {
      "cell_type": "code",
      "source": [
        "bm25_flavor = \"lucene\"\n",
        "idf_flavor = \"lucene\"\n",
        "\n",
        "retriever = bm25s.BM25(corpus=corpus_verbatim, method=bm25_flavor, idf_method=idf_flavor)\n",
        "retriever.index(corpus_tokenized, show_progress=True)\n"
      ],
      "metadata": {
        "id": "HxQKtNnxmsWZ"
      },
      "execution_count": null,
      "outputs": []
    },
    {
      "cell_type": "markdown",
      "source": [
        "Una vez ejecutado este ultimo fragmento, la coleccion ya estara indexada. Lo que podemos hacer es tambien almacenarla:"
      ],
      "metadata": {
        "id": "_O8m0bQB141B"
      }
    },
    {
      "cell_type": "code",
      "source": [
        "retriever.save(\"COVID\", corpus=corpus_verbatim)"
      ],
      "metadata": {
        "id": "NQqDEnFcDJRH"
      },
      "execution_count": null,
      "outputs": []
    }
  ]
}